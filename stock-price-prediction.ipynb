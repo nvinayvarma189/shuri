{
 "cells": [
  {
   "cell_type": "markdown",
   "metadata": {},
   "source": [
    "## Problem Scenario:\n",
    "\n",
    "In this project we have a dataset containing stock prices of Google from May-2009 to August-2018. We have both AMD and Google datasets. We are using only Google data as of now. \n",
    "\n",
    "Dataset Source: https://www.kaggle.com/gunhee/amdgoogle\n",
    "\n",
    "We are using the stock prices data from 2009 to 2017 (9 years) for training the neural network and predict the stock prices for the year 2018. This is a Regression problem.\n",
    "\n",
    "To achieve this goal, we will train a **Recurrent Neural Network (LSTM)**. We will use one of the deep learning libraries, **Keras**, to build the neural network.\n"
   ]
  },
  {
   "cell_type": "markdown",
   "metadata": {},
   "source": [
    "## Importing the Libraries"
   ]
  },
  {
   "cell_type": "code",
   "execution_count": 1,
   "metadata": {},
   "outputs": [],
   "source": [
    "import numpy as np\n",
    "import pandas as pd\n",
    "\n",
    "import matplotlib.pyplot as plt\n",
    "%matplotlib inline"
   ]
  },
  {
   "cell_type": "markdown",
   "metadata": {},
   "source": [
    "## Loading the dataset"
   ]
  },
  {
   "cell_type": "code",
   "execution_count": 43,
   "metadata": {},
   "outputs": [],
   "source": [
    "totaldata = pd.read_csv(\"dataset/GOOGL.csv\")"
   ]
  },
  {
   "cell_type": "code",
   "execution_count": 44,
   "metadata": {},
   "outputs": [
    {
     "data": {
      "text/html": [
       "<div>\n",
       "<style scoped>\n",
       "    .dataframe tbody tr th:only-of-type {\n",
       "        vertical-align: middle;\n",
       "    }\n",
       "\n",
       "    .dataframe tbody tr th {\n",
       "        vertical-align: top;\n",
       "    }\n",
       "\n",
       "    .dataframe thead th {\n",
       "        text-align: right;\n",
       "    }\n",
       "</style>\n",
       "<table border=\"1\" class=\"dataframe\">\n",
       "  <thead>\n",
       "    <tr style=\"text-align: right;\">\n",
       "      <th></th>\n",
       "      <th>Date</th>\n",
       "      <th>Open</th>\n",
       "      <th>High</th>\n",
       "      <th>Low</th>\n",
       "      <th>Close</th>\n",
       "      <th>Adj Close</th>\n",
       "      <th>Volume</th>\n",
       "    </tr>\n",
       "  </thead>\n",
       "  <tbody>\n",
       "    <tr>\n",
       "      <th>0</th>\n",
       "      <td>2009-05-22</td>\n",
       "      <td>198.528534</td>\n",
       "      <td>199.524521</td>\n",
       "      <td>196.196198</td>\n",
       "      <td>196.946945</td>\n",
       "      <td>196.946945</td>\n",
       "      <td>3433700</td>\n",
       "    </tr>\n",
       "    <tr>\n",
       "      <th>1</th>\n",
       "      <td>2009-05-26</td>\n",
       "      <td>196.171173</td>\n",
       "      <td>202.702698</td>\n",
       "      <td>195.195190</td>\n",
       "      <td>202.382385</td>\n",
       "      <td>202.382385</td>\n",
       "      <td>6202700</td>\n",
       "    </tr>\n",
       "    <tr>\n",
       "      <th>2</th>\n",
       "      <td>2009-05-27</td>\n",
       "      <td>203.023026</td>\n",
       "      <td>206.136139</td>\n",
       "      <td>202.607605</td>\n",
       "      <td>202.982986</td>\n",
       "      <td>202.982986</td>\n",
       "      <td>6062500</td>\n",
       "    </tr>\n",
       "    <tr>\n",
       "      <th>3</th>\n",
       "      <td>2009-05-28</td>\n",
       "      <td>204.544540</td>\n",
       "      <td>206.016022</td>\n",
       "      <td>202.507507</td>\n",
       "      <td>205.405411</td>\n",
       "      <td>205.405411</td>\n",
       "      <td>5332200</td>\n",
       "    </tr>\n",
       "    <tr>\n",
       "      <th>4</th>\n",
       "      <td>2009-05-29</td>\n",
       "      <td>206.261261</td>\n",
       "      <td>208.823822</td>\n",
       "      <td>205.555557</td>\n",
       "      <td>208.823822</td>\n",
       "      <td>208.823822</td>\n",
       "      <td>5291100</td>\n",
       "    </tr>\n",
       "  </tbody>\n",
       "</table>\n",
       "</div>"
      ],
      "text/plain": [
       "         Date        Open        High         Low       Close   Adj Close  \\\n",
       "0  2009-05-22  198.528534  199.524521  196.196198  196.946945  196.946945   \n",
       "1  2009-05-26  196.171173  202.702698  195.195190  202.382385  202.382385   \n",
       "2  2009-05-27  203.023026  206.136139  202.607605  202.982986  202.982986   \n",
       "3  2009-05-28  204.544540  206.016022  202.507507  205.405411  205.405411   \n",
       "4  2009-05-29  206.261261  208.823822  205.555557  208.823822  208.823822   \n",
       "\n",
       "    Volume  \n",
       "0  3433700  \n",
       "1  6202700  \n",
       "2  6062500  \n",
       "3  5332200  \n",
       "4  5291100  "
      ]
     },
     "execution_count": 44,
     "metadata": {},
     "output_type": "execute_result"
    }
   ],
   "source": [
    "totaldata.head()"
   ]
  },
  {
   "cell_type": "code",
   "execution_count": 45,
   "metadata": {},
   "outputs": [
    {
     "data": {
      "text/html": [
       "<div>\n",
       "<style scoped>\n",
       "    .dataframe tbody tr th:only-of-type {\n",
       "        vertical-align: middle;\n",
       "    }\n",
       "\n",
       "    .dataframe tbody tr th {\n",
       "        vertical-align: top;\n",
       "    }\n",
       "\n",
       "    .dataframe thead th {\n",
       "        text-align: right;\n",
       "    }\n",
       "</style>\n",
       "<table border=\"1\" class=\"dataframe\">\n",
       "  <thead>\n",
       "    <tr style=\"text-align: right;\">\n",
       "      <th></th>\n",
       "      <th>Date</th>\n",
       "      <th>Open</th>\n",
       "      <th>High</th>\n",
       "      <th>Low</th>\n",
       "      <th>Close</th>\n",
       "      <th>Adj Close</th>\n",
       "      <th>Volume</th>\n",
       "    </tr>\n",
       "  </thead>\n",
       "  <tbody>\n",
       "    <tr>\n",
       "      <th>2330</th>\n",
       "      <td>2018-08-23</td>\n",
       "      <td>1219.880005</td>\n",
       "      <td>1235.170044</td>\n",
       "      <td>1219.349976</td>\n",
       "      <td>1221.160034</td>\n",
       "      <td>1221.160034</td>\n",
       "      <td>1233300</td>\n",
       "    </tr>\n",
       "    <tr>\n",
       "      <th>2331</th>\n",
       "      <td>2018-08-24</td>\n",
       "      <td>1226.000000</td>\n",
       "      <td>1237.400024</td>\n",
       "      <td>1221.420044</td>\n",
       "      <td>1236.750000</td>\n",
       "      <td>1236.750000</td>\n",
       "      <td>1222700</td>\n",
       "    </tr>\n",
       "    <tr>\n",
       "      <th>2332</th>\n",
       "      <td>2018-08-27</td>\n",
       "      <td>1244.140015</td>\n",
       "      <td>1257.869995</td>\n",
       "      <td>1240.680054</td>\n",
       "      <td>1256.270020</td>\n",
       "      <td>1256.270020</td>\n",
       "      <td>1429000</td>\n",
       "    </tr>\n",
       "    <tr>\n",
       "      <th>2333</th>\n",
       "      <td>2018-08-28</td>\n",
       "      <td>1255.900024</td>\n",
       "      <td>1256.560059</td>\n",
       "      <td>1242.969971</td>\n",
       "      <td>1245.859985</td>\n",
       "      <td>1245.859985</td>\n",
       "      <td>1366500</td>\n",
       "    </tr>\n",
       "    <tr>\n",
       "      <th>2334</th>\n",
       "      <td>2018-08-29</td>\n",
       "      <td>1255.000000</td>\n",
       "      <td>1267.170044</td>\n",
       "      <td>1252.800049</td>\n",
       "      <td>1264.650024</td>\n",
       "      <td>1264.650024</td>\n",
       "      <td>1846300</td>\n",
       "    </tr>\n",
       "  </tbody>\n",
       "</table>\n",
       "</div>"
      ],
      "text/plain": [
       "            Date         Open         High          Low        Close  \\\n",
       "2330  2018-08-23  1219.880005  1235.170044  1219.349976  1221.160034   \n",
       "2331  2018-08-24  1226.000000  1237.400024  1221.420044  1236.750000   \n",
       "2332  2018-08-27  1244.140015  1257.869995  1240.680054  1256.270020   \n",
       "2333  2018-08-28  1255.900024  1256.560059  1242.969971  1245.859985   \n",
       "2334  2018-08-29  1255.000000  1267.170044  1252.800049  1264.650024   \n",
       "\n",
       "        Adj Close   Volume  \n",
       "2330  1221.160034  1233300  \n",
       "2331  1236.750000  1222700  \n",
       "2332  1256.270020  1429000  \n",
       "2333  1245.859985  1366500  \n",
       "2334  1264.650024  1846300  "
      ]
     },
     "execution_count": 45,
     "metadata": {},
     "output_type": "execute_result"
    }
   ],
   "source": [
    "totaldata.tail()"
   ]
  },
  {
   "cell_type": "markdown",
   "metadata": {},
   "source": [
    "You can see that we have the dataset over the years from 2009 to 2018. We planned to train the model over the data from 2009 to 2017 and test it on 2018 data. So, we need to filter the data into two parts.\n",
    "\n",
    "- data_from_2009_to_2017 (starting from May 2009 to December 2017 included)\n",
    "- data_2018 (starting from January 2018 to August 2018)"
   ]
  },
  {
   "cell_type": "code",
   "execution_count": 68,
   "metadata": {},
   "outputs": [],
   "source": [
    "# converting the Date row of the Dataframe to datetime format for easy handling\n",
    "\n",
    "import datetime\n",
    "totaldata['Date'] = pd.to_datetime(totaldata['Date'])"
   ]
  },
  {
   "cell_type": "code",
   "execution_count": 57,
   "metadata": {},
   "outputs": [],
   "source": [
    "# the seperation date\n",
    "\n",
    "dec_2017 = '2017-12-31'"
   ]
  },
  {
   "cell_type": "markdown",
   "metadata": {},
   "source": [
    "### data_from_2009_to_2017"
   ]
  },
  {
   "cell_type": "code",
   "execution_count": 48,
   "metadata": {},
   "outputs": [],
   "source": [
    "mask = (totaldata['Date'] <= dec_2017)\n",
    "data_09to17 = totaldata.loc[mask]"
   ]
  },
  {
   "cell_type": "code",
   "execution_count": 49,
   "metadata": {},
   "outputs": [
    {
     "data": {
      "text/html": [
       "<div>\n",
       "<style scoped>\n",
       "    .dataframe tbody tr th:only-of-type {\n",
       "        vertical-align: middle;\n",
       "    }\n",
       "\n",
       "    .dataframe tbody tr th {\n",
       "        vertical-align: top;\n",
       "    }\n",
       "\n",
       "    .dataframe thead th {\n",
       "        text-align: right;\n",
       "    }\n",
       "</style>\n",
       "<table border=\"1\" class=\"dataframe\">\n",
       "  <thead>\n",
       "    <tr style=\"text-align: right;\">\n",
       "      <th></th>\n",
       "      <th>Date</th>\n",
       "      <th>Open</th>\n",
       "      <th>High</th>\n",
       "      <th>Low</th>\n",
       "      <th>Close</th>\n",
       "      <th>Adj Close</th>\n",
       "      <th>Volume</th>\n",
       "    </tr>\n",
       "  </thead>\n",
       "  <tbody>\n",
       "    <tr>\n",
       "      <th>2163</th>\n",
       "      <td>2017-12-22</td>\n",
       "      <td>1070.000000</td>\n",
       "      <td>1071.719971</td>\n",
       "      <td>1067.640015</td>\n",
       "      <td>1068.859985</td>\n",
       "      <td>1068.859985</td>\n",
       "      <td>889400</td>\n",
       "    </tr>\n",
       "    <tr>\n",
       "      <th>2164</th>\n",
       "      <td>2017-12-26</td>\n",
       "      <td>1068.640015</td>\n",
       "      <td>1068.859985</td>\n",
       "      <td>1058.640015</td>\n",
       "      <td>1065.849976</td>\n",
       "      <td>1065.849976</td>\n",
       "      <td>918800</td>\n",
       "    </tr>\n",
       "    <tr>\n",
       "      <th>2165</th>\n",
       "      <td>2017-12-27</td>\n",
       "      <td>1066.599976</td>\n",
       "      <td>1068.270020</td>\n",
       "      <td>1058.380005</td>\n",
       "      <td>1060.199951</td>\n",
       "      <td>1060.199951</td>\n",
       "      <td>1116200</td>\n",
       "    </tr>\n",
       "    <tr>\n",
       "      <th>2166</th>\n",
       "      <td>2017-12-28</td>\n",
       "      <td>1062.250000</td>\n",
       "      <td>1064.839966</td>\n",
       "      <td>1053.380005</td>\n",
       "      <td>1055.949951</td>\n",
       "      <td>1055.949951</td>\n",
       "      <td>994200</td>\n",
       "    </tr>\n",
       "    <tr>\n",
       "      <th>2167</th>\n",
       "      <td>2017-12-29</td>\n",
       "      <td>1055.489990</td>\n",
       "      <td>1058.050049</td>\n",
       "      <td>1052.699951</td>\n",
       "      <td>1053.400024</td>\n",
       "      <td>1053.400024</td>\n",
       "      <td>1180300</td>\n",
       "    </tr>\n",
       "  </tbody>\n",
       "</table>\n",
       "</div>"
      ],
      "text/plain": [
       "           Date         Open         High          Low        Close  \\\n",
       "2163 2017-12-22  1070.000000  1071.719971  1067.640015  1068.859985   \n",
       "2164 2017-12-26  1068.640015  1068.859985  1058.640015  1065.849976   \n",
       "2165 2017-12-27  1066.599976  1068.270020  1058.380005  1060.199951   \n",
       "2166 2017-12-28  1062.250000  1064.839966  1053.380005  1055.949951   \n",
       "2167 2017-12-29  1055.489990  1058.050049  1052.699951  1053.400024   \n",
       "\n",
       "        Adj Close   Volume  \n",
       "2163  1068.859985   889400  \n",
       "2164  1065.849976   918800  \n",
       "2165  1060.199951  1116200  \n",
       "2166  1055.949951   994200  \n",
       "2167  1053.400024  1180300  "
      ]
     },
     "execution_count": 49,
     "metadata": {},
     "output_type": "execute_result"
    }
   ],
   "source": [
    "data_09to17.tail()"
   ]
  },
  {
   "cell_type": "markdown",
   "metadata": {},
   "source": [
    "### data_2018"
   ]
  },
  {
   "cell_type": "code",
   "execution_count": 52,
   "metadata": {},
   "outputs": [],
   "source": [
    "mask = (totaldata['Date'] > end_date)\n",
    "data_18 = totaldata.loc[mask]"
   ]
  },
  {
   "cell_type": "code",
   "execution_count": 53,
   "metadata": {},
   "outputs": [
    {
     "data": {
      "text/html": [
       "<div>\n",
       "<style scoped>\n",
       "    .dataframe tbody tr th:only-of-type {\n",
       "        vertical-align: middle;\n",
       "    }\n",
       "\n",
       "    .dataframe tbody tr th {\n",
       "        vertical-align: top;\n",
       "    }\n",
       "\n",
       "    .dataframe thead th {\n",
       "        text-align: right;\n",
       "    }\n",
       "</style>\n",
       "<table border=\"1\" class=\"dataframe\">\n",
       "  <thead>\n",
       "    <tr style=\"text-align: right;\">\n",
       "      <th></th>\n",
       "      <th>Date</th>\n",
       "      <th>Open</th>\n",
       "      <th>High</th>\n",
       "      <th>Low</th>\n",
       "      <th>Close</th>\n",
       "      <th>Adj Close</th>\n",
       "      <th>Volume</th>\n",
       "    </tr>\n",
       "  </thead>\n",
       "  <tbody>\n",
       "    <tr>\n",
       "      <th>2168</th>\n",
       "      <td>2018-01-02</td>\n",
       "      <td>1053.020020</td>\n",
       "      <td>1075.979980</td>\n",
       "      <td>1053.020020</td>\n",
       "      <td>1073.209961</td>\n",
       "      <td>1073.209961</td>\n",
       "      <td>1588300</td>\n",
       "    </tr>\n",
       "    <tr>\n",
       "      <th>2169</th>\n",
       "      <td>2018-01-03</td>\n",
       "      <td>1073.930054</td>\n",
       "      <td>1096.099976</td>\n",
       "      <td>1073.430054</td>\n",
       "      <td>1091.520020</td>\n",
       "      <td>1091.520020</td>\n",
       "      <td>1565900</td>\n",
       "    </tr>\n",
       "    <tr>\n",
       "      <th>2170</th>\n",
       "      <td>2018-01-04</td>\n",
       "      <td>1097.089966</td>\n",
       "      <td>1104.079956</td>\n",
       "      <td>1094.260010</td>\n",
       "      <td>1095.760010</td>\n",
       "      <td>1095.760010</td>\n",
       "      <td>1302600</td>\n",
       "    </tr>\n",
       "    <tr>\n",
       "      <th>2171</th>\n",
       "      <td>2018-01-05</td>\n",
       "      <td>1103.449951</td>\n",
       "      <td>1113.579956</td>\n",
       "      <td>1101.800049</td>\n",
       "      <td>1110.290039</td>\n",
       "      <td>1110.290039</td>\n",
       "      <td>1512500</td>\n",
       "    </tr>\n",
       "    <tr>\n",
       "      <th>2172</th>\n",
       "      <td>2018-01-08</td>\n",
       "      <td>1111.000000</td>\n",
       "      <td>1119.160034</td>\n",
       "      <td>1110.000000</td>\n",
       "      <td>1114.209961</td>\n",
       "      <td>1114.209961</td>\n",
       "      <td>1232200</td>\n",
       "    </tr>\n",
       "  </tbody>\n",
       "</table>\n",
       "</div>"
      ],
      "text/plain": [
       "           Date         Open         High          Low        Close  \\\n",
       "2168 2018-01-02  1053.020020  1075.979980  1053.020020  1073.209961   \n",
       "2169 2018-01-03  1073.930054  1096.099976  1073.430054  1091.520020   \n",
       "2170 2018-01-04  1097.089966  1104.079956  1094.260010  1095.760010   \n",
       "2171 2018-01-05  1103.449951  1113.579956  1101.800049  1110.290039   \n",
       "2172 2018-01-08  1111.000000  1119.160034  1110.000000  1114.209961   \n",
       "\n",
       "        Adj Close   Volume  \n",
       "2168  1073.209961  1588300  \n",
       "2169  1091.520020  1565900  \n",
       "2170  1095.760010  1302600  \n",
       "2171  1110.290039  1512500  \n",
       "2172  1114.209961  1232200  "
      ]
     },
     "execution_count": 53,
     "metadata": {},
     "output_type": "execute_result"
    }
   ],
   "source": [
    "data_18.head()"
   ]
  },
  {
   "cell_type": "markdown",
   "metadata": {},
   "source": [
    "We will use the `data_09to17` for the further steps. We will use the `data_18` in the end for testing and validating."
   ]
  },
  {
   "cell_type": "markdown",
   "metadata": {},
   "source": [
    "## Data Preprocessing"
   ]
  },
  {
   "cell_type": "markdown",
   "metadata": {},
   "source": [
    "The dataset contains various information like displayed above. But in this project we will only use the `Open` stock prices for training our model. Therefore for the purpose of convenience we will create another variable that stores only the required (`Open` stock price) information. "
   ]
  },
  {
   "cell_type": "code",
   "execution_count": 63,
   "metadata": {},
   "outputs": [
    {
     "name": "stdout",
     "output_type": "stream",
     "text": [
      "[[ 198.528534]\n",
      " [ 196.171173]\n",
      " [ 203.023026]\n",
      " ...\n",
      " [1066.599976]\n",
      " [1062.25    ]\n",
      " [1055.48999 ]]\n",
      "********************\n",
      "********************\n",
      "(2168, 1)\n"
     ]
    }
   ],
   "source": [
    "training_set = data_09to17.iloc[:,1:2].values\n",
    "\n",
    "print(training_set)\n",
    "print(\"********************\")\n",
    "print(\"********************\")\n",
    "print(training_set.shape)"
   ]
  },
  {
   "cell_type": "markdown",
   "metadata": {},
   "source": [
    "Now we can see that there is only one column with the `Open` stock prices. There are a total of 2168 stock prices."
   ]
  },
  {
   "cell_type": "markdown",
   "metadata": {},
   "source": [
    "### Additional Information (Things to Remember!)"
   ]
  },
  {
   "cell_type": "code",
   "execution_count": 65,
   "metadata": {},
   "outputs": [
    {
     "name": "stdout",
     "output_type": "stream",
     "text": [
      "<class 'pandas.core.frame.DataFrame'>\n",
      "<class 'pandas.core.frame.DataFrame'>\n",
      "<class 'numpy.ndarray'>\n"
     ]
    }
   ],
   "source": [
    "print(type(data_09to17))\n",
    "print(type(data_09to17.iloc[:,1:2]))   \n",
    "print(type(data_09to17.iloc[:,1:2].values))\n",
    "\n",
    "# iloc[rangeofRows, rangeofColumns]\n",
    "# Indexing starts from zero.\n",
    "# \":\" indicates entire range.\n",
    "# \"1:2\" indicates column one only. Because, the upper bound will be excluded. \n",
    "# mathematical operation are performed on the arrays. So, it is crusial to convert the data to arrays."
   ]
  },
  {
   "cell_type": "markdown",
   "metadata": {},
   "source": [
    "## Feature scaling\n",
    "\n",
    "The performance of the neural network will be better if the entire training input is in the same range. As we can see from above the stock prices are not in the same range. So, we need to scale the training data such that they are in the same range. This process is called Feature Scaling. The two popular methods for feature scaling are:\n",
    "\n",
    "* **Standardization**\n",
    "\n",
    "$ x' = \\frac{x - \\bar{x}}{\\sigma} $\n",
    "\n",
    "where $ x $ is the original feature vector, $ \\bar{x} $ is the mean of that feature vector, and $ \\sigma $ is its standard deviation.\n",
    "\n",
    "* **Normalization** (Min-Max normalization)\n",
    "\n",
    "$ x' = \\frac{x - \\text{min}(x)}{\\text{max}(x)-\\text{min}(x)} $\n",
    "\n",
    "where $ x $ is an original value, $ x' $ is the normalized value.\n",
    "\n",
    "It is recommended to use Normalization in the case of RNN networks. Therefore we use Min-Max normalization here. You may also experiment with different feature scaling methods."
   ]
  },
  {
   "cell_type": "code",
   "execution_count": 66,
   "metadata": {},
   "outputs": [
    {
     "data": {
      "text/plain": [
       "array([[0.00265813],\n",
       "       [0.        ],\n",
       "       [0.00772607],\n",
       "       ...,\n",
       "       [0.98148496],\n",
       "       [0.97657998],\n",
       "       [0.96895747]])"
      ]
     },
     "execution_count": 66,
     "metadata": {},
     "output_type": "execute_result"
    }
   ],
   "source": [
    "from sklearn.preprocessing import MinMaxScaler\n",
    "\n",
    "scaler = MinMaxScaler(feature_range = (0,1)) \n",
    "scaled_training_set = scaler.fit_transform(training_set)\n",
    "\n",
    "scaled_training_set"
   ]
  },
  {
   "cell_type": "markdown",
   "metadata": {},
   "source": [
    "The `fit` method only calculates the min and max values. It does not apply the formula on the training set. The `fit_transform` method applies the minmax formula on the training set. After applying the minmax formula, the transformed values will be in the range 0 and 1 i.e, the training data (features) will be in the range 0 and 1 (as shown above)."
   ]
  },
  {
   "cell_type": "markdown",
   "metadata": {},
   "source": [
    "## Implementation of model"
   ]
  },
  {
   "cell_type": "code",
   "execution_count": null,
   "metadata": {},
   "outputs": [],
   "source": []
  }
 ],
 "metadata": {
  "kernelspec": {
   "display_name": "Python 3",
   "language": "python",
   "name": "python3"
  },
  "language_info": {
   "codemirror_mode": {
    "name": "ipython",
    "version": 3
   },
   "file_extension": ".py",
   "mimetype": "text/x-python",
   "name": "python",
   "nbconvert_exporter": "python",
   "pygments_lexer": "ipython3",
   "version": "3.7.3"
  }
 },
 "nbformat": 4,
 "nbformat_minor": 2
}
