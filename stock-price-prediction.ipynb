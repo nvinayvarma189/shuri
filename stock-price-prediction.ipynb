{
 "cells": [
  {
   "cell_type": "markdown",
   "metadata": {},
   "source": [
    "## Problem Scenario:\n",
    "\n",
    "In this project we have a dataset containing stock prices of Google from May-2009 to August-2018. We have both AMD and Google datasets. We are using only Google data as of now. \n",
    "\n",
    "Dataset Source: https://www.kaggle.com/gunhee/amdgoogle\n",
    "\n",
    "We are using the stock prices data from 2009 to 2017 (9 years) for training the neural network and predict the stock prices for the year 2018. This is a Regression problem.\n",
    "\n",
    "To achieve this goal, we will train a **Recurrent Neural Network (LSTM)**. We will use one of the deep learning libraries, **Keras**, to build the neural network.\n"
   ]
  },
  {
   "cell_type": "markdown",
   "metadata": {},
   "source": [
    "## Importing the Libraries"
   ]
  },
  {
   "cell_type": "code",
   "execution_count": 13,
   "metadata": {},
   "outputs": [],
   "source": [
    "import numpy as np\n",
    "import pandas as pd\n",
    "\n",
    "import matplotlib.pyplot as plt\n",
    "%matplotlib inline"
   ]
  },
  {
   "cell_type": "code",
   "execution_count": 39,
   "metadata": {},
   "outputs": [
    {
     "name": "stdout",
     "output_type": "stream",
     "text": [
      "Requirement already satisfied: keras in /home/vchrombie/anaconda3/lib/python3.7/site-packages (2.2.5)\n",
      "Requirement already satisfied: h5py in /home/vchrombie/anaconda3/lib/python3.7/site-packages (from keras) (2.9.0)\n",
      "Requirement already satisfied: keras-preprocessing>=1.1.0 in /home/vchrombie/anaconda3/lib/python3.7/site-packages (from keras) (1.1.0)\n",
      "Requirement already satisfied: keras-applications>=1.0.8 in /home/vchrombie/anaconda3/lib/python3.7/site-packages (from keras) (1.0.8)\n",
      "Requirement already satisfied: numpy>=1.9.1 in /home/vchrombie/anaconda3/lib/python3.7/site-packages (from keras) (1.16.2)\n",
      "Requirement already satisfied: six>=1.9.0 in /home/vchrombie/anaconda3/lib/python3.7/site-packages (from keras) (1.12.0)\n",
      "Requirement already satisfied: pyyaml in /home/vchrombie/anaconda3/lib/python3.7/site-packages (from keras) (5.1)\n",
      "Requirement already satisfied: scipy>=0.14 in /home/vchrombie/anaconda3/lib/python3.7/site-packages (from keras) (1.2.1)\n",
      "Requirement already satisfied: tensorflow in /home/vchrombie/anaconda3/lib/python3.7/site-packages (1.14.0)\n",
      "Requirement already satisfied: termcolor>=1.1.0 in /home/vchrombie/anaconda3/lib/python3.7/site-packages (from tensorflow) (1.1.0)\n",
      "Requirement already satisfied: gast>=0.2.0 in /home/vchrombie/anaconda3/lib/python3.7/site-packages (from tensorflow) (0.2.2)\n",
      "Requirement already satisfied: keras-preprocessing>=1.0.5 in /home/vchrombie/anaconda3/lib/python3.7/site-packages (from tensorflow) (1.1.0)\n",
      "Requirement already satisfied: numpy<2.0,>=1.14.5 in /home/vchrombie/anaconda3/lib/python3.7/site-packages (from tensorflow) (1.16.2)\n",
      "Requirement already satisfied: keras-applications>=1.0.6 in /home/vchrombie/anaconda3/lib/python3.7/site-packages (from tensorflow) (1.0.8)\n",
      "Requirement already satisfied: tensorboard<1.15.0,>=1.14.0 in /home/vchrombie/anaconda3/lib/python3.7/site-packages (from tensorflow) (1.14.0)\n",
      "Requirement already satisfied: tensorflow-estimator<1.15.0rc0,>=1.14.0rc0 in /home/vchrombie/anaconda3/lib/python3.7/site-packages (from tensorflow) (1.14.0)\n",
      "Requirement already satisfied: six>=1.10.0 in /home/vchrombie/anaconda3/lib/python3.7/site-packages (from tensorflow) (1.12.0)\n",
      "Requirement already satisfied: wheel>=0.26 in /home/vchrombie/anaconda3/lib/python3.7/site-packages (from tensorflow) (0.33.1)\n",
      "Requirement already satisfied: grpcio>=1.8.6 in /home/vchrombie/anaconda3/lib/python3.7/site-packages (from tensorflow) (1.23.0)\n",
      "Requirement already satisfied: astor>=0.6.0 in /home/vchrombie/anaconda3/lib/python3.7/site-packages (from tensorflow) (0.8.0)\n",
      "Requirement already satisfied: wrapt>=1.11.1 in /home/vchrombie/anaconda3/lib/python3.7/site-packages (from tensorflow) (1.11.1)\n",
      "Requirement already satisfied: google-pasta>=0.1.6 in /home/vchrombie/anaconda3/lib/python3.7/site-packages (from tensorflow) (0.1.7)\n",
      "Requirement already satisfied: absl-py>=0.7.0 in /home/vchrombie/anaconda3/lib/python3.7/site-packages (from tensorflow) (0.8.0)\n",
      "Requirement already satisfied: protobuf>=3.6.1 in /home/vchrombie/anaconda3/lib/python3.7/site-packages (from tensorflow) (3.9.1)\n",
      "Requirement already satisfied: h5py in /home/vchrombie/anaconda3/lib/python3.7/site-packages (from keras-applications>=1.0.6->tensorflow) (2.9.0)\n",
      "Requirement already satisfied: werkzeug>=0.11.15 in /home/vchrombie/anaconda3/lib/python3.7/site-packages (from tensorboard<1.15.0,>=1.14.0->tensorflow) (0.14.1)\n",
      "Requirement already satisfied: markdown>=2.6.8 in /home/vchrombie/anaconda3/lib/python3.7/site-packages (from tensorboard<1.15.0,>=1.14.0->tensorflow) (3.1.1)\n",
      "Collecting setuptools>=41.0.0 (from tensorboard<1.15.0,>=1.14.0->tensorflow)\n",
      "  Using cached https://files.pythonhosted.org/packages/b2/86/095d2f7829badc207c893dd4ac767e871f6cd547145df797ea26baea4e2e/setuptools-41.2.0-py2.py3-none-any.whl\n",
      "Installing collected packages: setuptools\n",
      "  Found existing installation: setuptools 40.8.0\n",
      "    Uninstalling setuptools-40.8.0:\n",
      "      Successfully uninstalled setuptools-40.8.0\n",
      "Successfully installed setuptools-41.2.0\n"
     ]
    }
   ],
   "source": [
    "!pip install keras\n",
    "!pip install tensorflow"
   ]
  },
  {
   "cell_type": "markdown",
   "metadata": {},
   "source": [
    "## Loading the dataset"
   ]
  },
  {
   "cell_type": "code",
   "execution_count": 14,
   "metadata": {},
   "outputs": [],
   "source": [
    "totaldata = pd.read_csv(\"dataset/GOOGL.csv\")"
   ]
  },
  {
   "cell_type": "code",
   "execution_count": 15,
   "metadata": {},
   "outputs": [
    {
     "data": {
      "text/html": [
       "<div>\n",
       "<style scoped>\n",
       "    .dataframe tbody tr th:only-of-type {\n",
       "        vertical-align: middle;\n",
       "    }\n",
       "\n",
       "    .dataframe tbody tr th {\n",
       "        vertical-align: top;\n",
       "    }\n",
       "\n",
       "    .dataframe thead th {\n",
       "        text-align: right;\n",
       "    }\n",
       "</style>\n",
       "<table border=\"1\" class=\"dataframe\">\n",
       "  <thead>\n",
       "    <tr style=\"text-align: right;\">\n",
       "      <th></th>\n",
       "      <th>Date</th>\n",
       "      <th>Open</th>\n",
       "      <th>High</th>\n",
       "      <th>Low</th>\n",
       "      <th>Close</th>\n",
       "      <th>Adj Close</th>\n",
       "      <th>Volume</th>\n",
       "    </tr>\n",
       "  </thead>\n",
       "  <tbody>\n",
       "    <tr>\n",
       "      <th>0</th>\n",
       "      <td>2009-05-22</td>\n",
       "      <td>198.528534</td>\n",
       "      <td>199.524521</td>\n",
       "      <td>196.196198</td>\n",
       "      <td>196.946945</td>\n",
       "      <td>196.946945</td>\n",
       "      <td>3433700</td>\n",
       "    </tr>\n",
       "    <tr>\n",
       "      <th>1</th>\n",
       "      <td>2009-05-26</td>\n",
       "      <td>196.171173</td>\n",
       "      <td>202.702698</td>\n",
       "      <td>195.195190</td>\n",
       "      <td>202.382385</td>\n",
       "      <td>202.382385</td>\n",
       "      <td>6202700</td>\n",
       "    </tr>\n",
       "    <tr>\n",
       "      <th>2</th>\n",
       "      <td>2009-05-27</td>\n",
       "      <td>203.023026</td>\n",
       "      <td>206.136139</td>\n",
       "      <td>202.607605</td>\n",
       "      <td>202.982986</td>\n",
       "      <td>202.982986</td>\n",
       "      <td>6062500</td>\n",
       "    </tr>\n",
       "    <tr>\n",
       "      <th>3</th>\n",
       "      <td>2009-05-28</td>\n",
       "      <td>204.544540</td>\n",
       "      <td>206.016022</td>\n",
       "      <td>202.507507</td>\n",
       "      <td>205.405411</td>\n",
       "      <td>205.405411</td>\n",
       "      <td>5332200</td>\n",
       "    </tr>\n",
       "    <tr>\n",
       "      <th>4</th>\n",
       "      <td>2009-05-29</td>\n",
       "      <td>206.261261</td>\n",
       "      <td>208.823822</td>\n",
       "      <td>205.555557</td>\n",
       "      <td>208.823822</td>\n",
       "      <td>208.823822</td>\n",
       "      <td>5291100</td>\n",
       "    </tr>\n",
       "  </tbody>\n",
       "</table>\n",
       "</div>"
      ],
      "text/plain": [
       "         Date        Open        High         Low       Close   Adj Close  \\\n",
       "0  2009-05-22  198.528534  199.524521  196.196198  196.946945  196.946945   \n",
       "1  2009-05-26  196.171173  202.702698  195.195190  202.382385  202.382385   \n",
       "2  2009-05-27  203.023026  206.136139  202.607605  202.982986  202.982986   \n",
       "3  2009-05-28  204.544540  206.016022  202.507507  205.405411  205.405411   \n",
       "4  2009-05-29  206.261261  208.823822  205.555557  208.823822  208.823822   \n",
       "\n",
       "    Volume  \n",
       "0  3433700  \n",
       "1  6202700  \n",
       "2  6062500  \n",
       "3  5332200  \n",
       "4  5291100  "
      ]
     },
     "execution_count": 15,
     "metadata": {},
     "output_type": "execute_result"
    }
   ],
   "source": [
    "totaldata.head()"
   ]
  },
  {
   "cell_type": "code",
   "execution_count": 16,
   "metadata": {},
   "outputs": [
    {
     "data": {
      "text/html": [
       "<div>\n",
       "<style scoped>\n",
       "    .dataframe tbody tr th:only-of-type {\n",
       "        vertical-align: middle;\n",
       "    }\n",
       "\n",
       "    .dataframe tbody tr th {\n",
       "        vertical-align: top;\n",
       "    }\n",
       "\n",
       "    .dataframe thead th {\n",
       "        text-align: right;\n",
       "    }\n",
       "</style>\n",
       "<table border=\"1\" class=\"dataframe\">\n",
       "  <thead>\n",
       "    <tr style=\"text-align: right;\">\n",
       "      <th></th>\n",
       "      <th>Date</th>\n",
       "      <th>Open</th>\n",
       "      <th>High</th>\n",
       "      <th>Low</th>\n",
       "      <th>Close</th>\n",
       "      <th>Adj Close</th>\n",
       "      <th>Volume</th>\n",
       "    </tr>\n",
       "  </thead>\n",
       "  <tbody>\n",
       "    <tr>\n",
       "      <th>2330</th>\n",
       "      <td>2018-08-23</td>\n",
       "      <td>1219.880005</td>\n",
       "      <td>1235.170044</td>\n",
       "      <td>1219.349976</td>\n",
       "      <td>1221.160034</td>\n",
       "      <td>1221.160034</td>\n",
       "      <td>1233300</td>\n",
       "    </tr>\n",
       "    <tr>\n",
       "      <th>2331</th>\n",
       "      <td>2018-08-24</td>\n",
       "      <td>1226.000000</td>\n",
       "      <td>1237.400024</td>\n",
       "      <td>1221.420044</td>\n",
       "      <td>1236.750000</td>\n",
       "      <td>1236.750000</td>\n",
       "      <td>1222700</td>\n",
       "    </tr>\n",
       "    <tr>\n",
       "      <th>2332</th>\n",
       "      <td>2018-08-27</td>\n",
       "      <td>1244.140015</td>\n",
       "      <td>1257.869995</td>\n",
       "      <td>1240.680054</td>\n",
       "      <td>1256.270020</td>\n",
       "      <td>1256.270020</td>\n",
       "      <td>1429000</td>\n",
       "    </tr>\n",
       "    <tr>\n",
       "      <th>2333</th>\n",
       "      <td>2018-08-28</td>\n",
       "      <td>1255.900024</td>\n",
       "      <td>1256.560059</td>\n",
       "      <td>1242.969971</td>\n",
       "      <td>1245.859985</td>\n",
       "      <td>1245.859985</td>\n",
       "      <td>1366500</td>\n",
       "    </tr>\n",
       "    <tr>\n",
       "      <th>2334</th>\n",
       "      <td>2018-08-29</td>\n",
       "      <td>1255.000000</td>\n",
       "      <td>1267.170044</td>\n",
       "      <td>1252.800049</td>\n",
       "      <td>1264.650024</td>\n",
       "      <td>1264.650024</td>\n",
       "      <td>1846300</td>\n",
       "    </tr>\n",
       "  </tbody>\n",
       "</table>\n",
       "</div>"
      ],
      "text/plain": [
       "            Date         Open         High          Low        Close  \\\n",
       "2330  2018-08-23  1219.880005  1235.170044  1219.349976  1221.160034   \n",
       "2331  2018-08-24  1226.000000  1237.400024  1221.420044  1236.750000   \n",
       "2332  2018-08-27  1244.140015  1257.869995  1240.680054  1256.270020   \n",
       "2333  2018-08-28  1255.900024  1256.560059  1242.969971  1245.859985   \n",
       "2334  2018-08-29  1255.000000  1267.170044  1252.800049  1264.650024   \n",
       "\n",
       "        Adj Close   Volume  \n",
       "2330  1221.160034  1233300  \n",
       "2331  1236.750000  1222700  \n",
       "2332  1256.270020  1429000  \n",
       "2333  1245.859985  1366500  \n",
       "2334  1264.650024  1846300  "
      ]
     },
     "execution_count": 16,
     "metadata": {},
     "output_type": "execute_result"
    }
   ],
   "source": [
    "totaldata.tail()"
   ]
  },
  {
   "cell_type": "code",
   "execution_count": 17,
   "metadata": {},
   "outputs": [
    {
     "name": "stdout",
     "output_type": "stream",
     "text": [
      "<class 'pandas.core.frame.DataFrame'>\n",
      "RangeIndex: 2335 entries, 0 to 2334\n",
      "Data columns (total 7 columns):\n",
      "Date         2335 non-null object\n",
      "Open         2335 non-null float64\n",
      "High         2335 non-null float64\n",
      "Low          2335 non-null float64\n",
      "Close        2335 non-null float64\n",
      "Adj Close    2335 non-null float64\n",
      "Volume       2335 non-null int64\n",
      "dtypes: float64(5), int64(1), object(1)\n",
      "memory usage: 127.8+ KB\n"
     ]
    }
   ],
   "source": [
    "totaldata.info()"
   ]
  },
  {
   "cell_type": "code",
   "execution_count": 67,
   "metadata": {},
   "outputs": [
    {
     "name": "stdout",
     "output_type": "stream",
     "text": [
      "Size =  16345\n",
      "Shape =  (2335, 7)\n",
      "Shape[0] x Shape[1] = 16345\n"
     ]
    }
   ],
   "source": [
    "# dataframe.size \n",
    "print(\"Size = \", totaldata.size)\n",
    "\n",
    "# dataframe.shape \n",
    "shape = totaldata.shape \n",
    "print(\"Shape = \", shape)\n",
    "print(\"Shape[0] x Shape[1] = {}\".format(shape[0]*shape[1])) "
   ]
  },
  {
   "cell_type": "markdown",
   "metadata": {},
   "source": [
    "## Exploratory Data Analysis"
   ]
  },
  {
   "cell_type": "code",
   "execution_count": 18,
   "metadata": {},
   "outputs": [
    {
     "name": "stdout",
     "output_type": "stream",
     "text": [
      "There are 2335 rows and 7 columns\n"
     ]
    }
   ],
   "source": [
    "totaldata.dataframeName = 'GOOGL.csv'\n",
    "nRow, nCol = totaldata.shape\n",
    "print(f'There are {nRow} rows and {nCol} columns')"
   ]
  },
  {
   "cell_type": "markdown",
   "metadata": {},
   "source": [
    "Let's take a quick look at what the data looks like"
   ]
  },
  {
   "cell_type": "code",
   "execution_count": 19,
   "metadata": {},
   "outputs": [
    {
     "data": {
      "text/html": [
       "<div>\n",
       "<style scoped>\n",
       "    .dataframe tbody tr th:only-of-type {\n",
       "        vertical-align: middle;\n",
       "    }\n",
       "\n",
       "    .dataframe tbody tr th {\n",
       "        vertical-align: top;\n",
       "    }\n",
       "\n",
       "    .dataframe thead th {\n",
       "        text-align: right;\n",
       "    }\n",
       "</style>\n",
       "<table border=\"1\" class=\"dataframe\">\n",
       "  <thead>\n",
       "    <tr style=\"text-align: right;\">\n",
       "      <th></th>\n",
       "      <th>Date</th>\n",
       "      <th>Open</th>\n",
       "      <th>High</th>\n",
       "      <th>Low</th>\n",
       "      <th>Close</th>\n",
       "      <th>Adj Close</th>\n",
       "      <th>Volume</th>\n",
       "    </tr>\n",
       "  </thead>\n",
       "  <tbody>\n",
       "    <tr>\n",
       "      <th>0</th>\n",
       "      <td>2009-05-22</td>\n",
       "      <td>198.528534</td>\n",
       "      <td>199.524521</td>\n",
       "      <td>196.196198</td>\n",
       "      <td>196.946945</td>\n",
       "      <td>196.946945</td>\n",
       "      <td>3433700</td>\n",
       "    </tr>\n",
       "    <tr>\n",
       "      <th>1</th>\n",
       "      <td>2009-05-26</td>\n",
       "      <td>196.171173</td>\n",
       "      <td>202.702698</td>\n",
       "      <td>195.195190</td>\n",
       "      <td>202.382385</td>\n",
       "      <td>202.382385</td>\n",
       "      <td>6202700</td>\n",
       "    </tr>\n",
       "    <tr>\n",
       "      <th>2</th>\n",
       "      <td>2009-05-27</td>\n",
       "      <td>203.023026</td>\n",
       "      <td>206.136139</td>\n",
       "      <td>202.607605</td>\n",
       "      <td>202.982986</td>\n",
       "      <td>202.982986</td>\n",
       "      <td>6062500</td>\n",
       "    </tr>\n",
       "    <tr>\n",
       "      <th>3</th>\n",
       "      <td>2009-05-28</td>\n",
       "      <td>204.544540</td>\n",
       "      <td>206.016022</td>\n",
       "      <td>202.507507</td>\n",
       "      <td>205.405411</td>\n",
       "      <td>205.405411</td>\n",
       "      <td>5332200</td>\n",
       "    </tr>\n",
       "    <tr>\n",
       "      <th>4</th>\n",
       "      <td>2009-05-29</td>\n",
       "      <td>206.261261</td>\n",
       "      <td>208.823822</td>\n",
       "      <td>205.555557</td>\n",
       "      <td>208.823822</td>\n",
       "      <td>208.823822</td>\n",
       "      <td>5291100</td>\n",
       "    </tr>\n",
       "  </tbody>\n",
       "</table>\n",
       "</div>"
      ],
      "text/plain": [
       "         Date        Open        High         Low       Close   Adj Close  \\\n",
       "0  2009-05-22  198.528534  199.524521  196.196198  196.946945  196.946945   \n",
       "1  2009-05-26  196.171173  202.702698  195.195190  202.382385  202.382385   \n",
       "2  2009-05-27  203.023026  206.136139  202.607605  202.982986  202.982986   \n",
       "3  2009-05-28  204.544540  206.016022  202.507507  205.405411  205.405411   \n",
       "4  2009-05-29  206.261261  208.823822  205.555557  208.823822  208.823822   \n",
       "\n",
       "    Volume  \n",
       "0  3433700  \n",
       "1  6202700  \n",
       "2  6062500  \n",
       "3  5332200  \n",
       "4  5291100  "
      ]
     },
     "execution_count": 19,
     "metadata": {},
     "output_type": "execute_result"
    }
   ],
   "source": [
    "totaldata.head(5)"
   ]
  },
  {
   "cell_type": "code",
   "execution_count": 70,
   "metadata": {},
   "outputs": [
    {
     "data": {
      "text/html": [
       "<div>\n",
       "<style scoped>\n",
       "    .dataframe tbody tr th:only-of-type {\n",
       "        vertical-align: middle;\n",
       "    }\n",
       "\n",
       "    .dataframe tbody tr th {\n",
       "        vertical-align: top;\n",
       "    }\n",
       "\n",
       "    .dataframe thead th {\n",
       "        text-align: right;\n",
       "    }\n",
       "</style>\n",
       "<table border=\"1\" class=\"dataframe\">\n",
       "  <thead>\n",
       "    <tr style=\"text-align: right;\">\n",
       "      <th></th>\n",
       "      <th>Open</th>\n",
       "      <th>High</th>\n",
       "      <th>Low</th>\n",
       "      <th>Close</th>\n",
       "      <th>Adj Close</th>\n",
       "      <th>Volume</th>\n",
       "    </tr>\n",
       "  </thead>\n",
       "  <tbody>\n",
       "    <tr>\n",
       "      <th>count</th>\n",
       "      <td>2335.000000</td>\n",
       "      <td>2335.000000</td>\n",
       "      <td>2335.000000</td>\n",
       "      <td>2335.000000</td>\n",
       "      <td>2335.000000</td>\n",
       "      <td>2.335000e+03</td>\n",
       "    </tr>\n",
       "    <tr>\n",
       "      <th>mean</th>\n",
       "      <td>550.725409</td>\n",
       "      <td>555.136744</td>\n",
       "      <td>545.908515</td>\n",
       "      <td>550.662757</td>\n",
       "      <td>550.662757</td>\n",
       "      <td>3.764886e+06</td>\n",
       "    </tr>\n",
       "    <tr>\n",
       "      <th>std</th>\n",
       "      <td>278.136894</td>\n",
       "      <td>280.349025</td>\n",
       "      <td>275.855161</td>\n",
       "      <td>278.228484</td>\n",
       "      <td>278.228484</td>\n",
       "      <td>2.764696e+06</td>\n",
       "    </tr>\n",
       "    <tr>\n",
       "      <th>min</th>\n",
       "      <td>196.171173</td>\n",
       "      <td>199.524521</td>\n",
       "      <td>195.195190</td>\n",
       "      <td>196.946945</td>\n",
       "      <td>196.946945</td>\n",
       "      <td>5.206000e+05</td>\n",
       "    </tr>\n",
       "    <tr>\n",
       "      <th>25%</th>\n",
       "      <td>299.286773</td>\n",
       "      <td>301.759247</td>\n",
       "      <td>297.197204</td>\n",
       "      <td>299.144135</td>\n",
       "      <td>299.144135</td>\n",
       "      <td>1.734650e+06</td>\n",
       "    </tr>\n",
       "    <tr>\n",
       "      <th>50%</th>\n",
       "      <td>526.211182</td>\n",
       "      <td>532.780029</td>\n",
       "      <td>521.909973</td>\n",
       "      <td>527.767761</td>\n",
       "      <td>527.767761</td>\n",
       "      <td>3.250200e+06</td>\n",
       "    </tr>\n",
       "    <tr>\n",
       "      <th>75%</th>\n",
       "      <td>757.760010</td>\n",
       "      <td>763.745025</td>\n",
       "      <td>752.024994</td>\n",
       "      <td>758.524993</td>\n",
       "      <td>758.524993</td>\n",
       "      <td>4.891800e+06</td>\n",
       "    </tr>\n",
       "    <tr>\n",
       "      <th>max</th>\n",
       "      <td>1289.119995</td>\n",
       "      <td>1291.439941</td>\n",
       "      <td>1263.000000</td>\n",
       "      <td>1285.500000</td>\n",
       "      <td>1285.500000</td>\n",
       "      <td>2.961990e+07</td>\n",
       "    </tr>\n",
       "  </tbody>\n",
       "</table>\n",
       "</div>"
      ],
      "text/plain": [
       "              Open         High          Low        Close    Adj Close  \\\n",
       "count  2335.000000  2335.000000  2335.000000  2335.000000  2335.000000   \n",
       "mean    550.725409   555.136744   545.908515   550.662757   550.662757   \n",
       "std     278.136894   280.349025   275.855161   278.228484   278.228484   \n",
       "min     196.171173   199.524521   195.195190   196.946945   196.946945   \n",
       "25%     299.286773   301.759247   297.197204   299.144135   299.144135   \n",
       "50%     526.211182   532.780029   521.909973   527.767761   527.767761   \n",
       "75%     757.760010   763.745025   752.024994   758.524993   758.524993   \n",
       "max    1289.119995  1291.439941  1263.000000  1285.500000  1285.500000   \n",
       "\n",
       "             Volume  \n",
       "count  2.335000e+03  \n",
       "mean   3.764886e+06  \n",
       "std    2.764696e+06  \n",
       "min    5.206000e+05  \n",
       "25%    1.734650e+06  \n",
       "50%    3.250200e+06  \n",
       "75%    4.891800e+06  \n",
       "max    2.961990e+07  "
      ]
     },
     "execution_count": 70,
     "metadata": {},
     "output_type": "execute_result"
    }
   ],
   "source": [
    "#statistical summary of the attributes\n",
    "\n",
    "totaldata.describe()"
   ]
  },
  {
   "cell_type": "code",
   "execution_count": 21,
   "metadata": {},
   "outputs": [
    {
     "data": {
      "image/png": "[encoded data removed]",
      "text/plain": [
       "<Figure size 432x288 with 1 Axes>"
      ]
     },
     "metadata": {
      "needs_background": "light"
     },
     "output_type": "display_data"
    },
    {
     "data": {
      "image/png": "[encoded data removed]",
      "text/plain": [
       "<Figure size 432x288 with 1 Axes>"
      ]
     },
     "metadata": {
      "needs_background": "light"
     },
     "output_type": "display_data"
    }
   ],
   "source": [
    "# boxplots\n",
    "\n",
    "totaldata.iloc[:,0:6].boxplot()\n",
    "plt.show()\n",
    "\n",
    "totaldata.iloc[:,6:7].boxplot()\n",
    "plt.show()"
   ]
  },
  {
   "cell_type": "code",
   "execution_count": 22,
   "metadata": {},
   "outputs": [
    {
     "data": {
      "image/png": "[encoded data removed]",
      "text/plain": [
       "<Figure size 864x432 with 6 Axes>"
      ]
     },
     "metadata": {
      "needs_background": "light"
     },
     "output_type": "display_data"
    }
   ],
   "source": [
    "totaldata.hist(figsize=(12, 6))\n",
    "plt.show()"
   ]
  },
  {
   "cell_type": "code",
   "execution_count": 23,
   "metadata": {},
   "outputs": [
    {
     "data": {
      "text/html": [
       "<div>\n",
       "<style scoped>\n",
       "    .dataframe tbody tr th:only-of-type {\n",
       "        vertical-align: middle;\n",
       "    }\n",
       "\n",
       "    .dataframe tbody tr th {\n",
       "        vertical-align: top;\n",
       "    }\n",
       "\n",
       "    .dataframe thead th {\n",
       "        text-align: right;\n",
       "    }\n",
       "</style>\n",
       "<table border=\"1\" class=\"dataframe\">\n",
       "  <thead>\n",
       "    <tr style=\"text-align: right;\">\n",
       "      <th></th>\n",
       "      <th>Open</th>\n",
       "      <th>High</th>\n",
       "      <th>Low</th>\n",
       "      <th>Close</th>\n",
       "      <th>Adj Close</th>\n",
       "      <th>Volume</th>\n",
       "    </tr>\n",
       "  </thead>\n",
       "  <tbody>\n",
       "    <tr>\n",
       "      <th>Open</th>\n",
       "      <td>1.000000</td>\n",
       "      <td>0.999879</td>\n",
       "      <td>0.999815</td>\n",
       "      <td>0.999687</td>\n",
       "      <td>0.999687</td>\n",
       "      <td>-0.573989</td>\n",
       "    </tr>\n",
       "    <tr>\n",
       "      <th>High</th>\n",
       "      <td>0.999879</td>\n",
       "      <td>1.000000</td>\n",
       "      <td>0.999805</td>\n",
       "      <td>0.999844</td>\n",
       "      <td>0.999844</td>\n",
       "      <td>-0.572042</td>\n",
       "    </tr>\n",
       "    <tr>\n",
       "      <th>Low</th>\n",
       "      <td>0.999815</td>\n",
       "      <td>0.999805</td>\n",
       "      <td>1.000000</td>\n",
       "      <td>0.999874</td>\n",
       "      <td>0.999874</td>\n",
       "      <td>-0.577802</td>\n",
       "    </tr>\n",
       "    <tr>\n",
       "      <th>Close</th>\n",
       "      <td>0.999687</td>\n",
       "      <td>0.999844</td>\n",
       "      <td>0.999874</td>\n",
       "      <td>1.000000</td>\n",
       "      <td>1.000000</td>\n",
       "      <td>-0.575422</td>\n",
       "    </tr>\n",
       "    <tr>\n",
       "      <th>Adj Close</th>\n",
       "      <td>0.999687</td>\n",
       "      <td>0.999844</td>\n",
       "      <td>0.999874</td>\n",
       "      <td>1.000000</td>\n",
       "      <td>1.000000</td>\n",
       "      <td>-0.575422</td>\n",
       "    </tr>\n",
       "    <tr>\n",
       "      <th>Volume</th>\n",
       "      <td>-0.573989</td>\n",
       "      <td>-0.572042</td>\n",
       "      <td>-0.577802</td>\n",
       "      <td>-0.575422</td>\n",
       "      <td>-0.575422</td>\n",
       "      <td>1.000000</td>\n",
       "    </tr>\n",
       "  </tbody>\n",
       "</table>\n",
       "</div>"
      ],
      "text/plain": [
       "               Open      High       Low     Close  Adj Close    Volume\n",
       "Open       1.000000  0.999879  0.999815  0.999687   0.999687 -0.573989\n",
       "High       0.999879  1.000000  0.999805  0.999844   0.999844 -0.572042\n",
       "Low        0.999815  0.999805  1.000000  0.999874   0.999874 -0.577802\n",
       "Close      0.999687  0.999844  0.999874  1.000000   1.000000 -0.575422\n",
       "Adj Close  0.999687  0.999844  0.999874  1.000000   1.000000 -0.575422\n",
       "Volume    -0.573989 -0.572042 -0.577802 -0.575422  -0.575422  1.000000"
      ]
     },
     "execution_count": 23,
     "metadata": {},
     "output_type": "execute_result"
    }
   ],
   "source": [
    "# Correlation Matrix\n",
    "\n",
    "totaldata.corr()"
   ]
  },
  {
   "cell_type": "code",
   "execution_count": 25,
   "metadata": {},
   "outputs": [
    {
     "data": {
      "image/png": "[encoded data removed]",
      "text/plain": [
       "<Figure size 864x432 with 2 Axes>"
      ]
     },
     "metadata": {
      "needs_background": "light"
     },
     "output_type": "display_data"
    }
   ],
   "source": [
    "# Correlation Matrix Plot\n",
    "\n",
    "f = plt.figure(figsize=(12, 6))\n",
    "plt.matshow(totaldata.corr(), fignum=f.number)\n",
    "plt.xticks(range(totaldata.shape[1]), totaldata.columns, fontsize=14, rotation=45)\n",
    "plt.yticks(range(totaldata.shape[1]), totaldata.columns, fontsize=14)\n",
    "cb = plt.colorbar()\n",
    "cb.ax.tick_params(labelsize=14)"
   ]
  },
  {
   "cell_type": "code",
   "execution_count": 26,
   "metadata": {},
   "outputs": [
    {
     "data": {
      "text/html": [
       "<style  type=\"text/css\" >\n",
       "    #T_d469bd8e_e351_11e9_a7ec_119cf2211eadrow0_col0 {\n",
       "            background-color:  #b40426;\n",
       "            color:  #f1f1f1;\n",
       "        }    #T_d469bd8e_e351_11e9_a7ec_119cf2211eadrow0_col1 {\n",
       "            background-color:  #b40426;\n",
       "            color:  #f1f1f1;\n",
       "        }    #T_d469bd8e_e351_11e9_a7ec_119cf2211eadrow0_col2 {\n",
       "            background-color:  #b40426;\n",
       "            color:  #f1f1f1;\n",
       "        }    #T_d469bd8e_e351_11e9_a7ec_119cf2211eadrow0_col3 {\n",
       "            background-color:  #b40426;\n",
       "            color:  #f1f1f1;\n",
       "        }    #T_d469bd8e_e351_11e9_a7ec_119cf2211eadrow0_col4 {\n",
       "            background-color:  #b40426;\n",
       "            color:  #f1f1f1;\n",
       "        }    #T_d469bd8e_e351_11e9_a7ec_119cf2211eadrow0_col5 {\n",
       "            background-color:  #3b4cc0;\n",
       "            color:  #f1f1f1;\n",
       "        }    #T_d469bd8e_e351_11e9_a7ec_119cf2211eadrow1_col0 {\n",
       "            background-color:  #b40426;\n",
       "            color:  #f1f1f1;\n",
       "        }    #T_d469bd8e_e351_11e9_a7ec_119cf2211eadrow1_col1 {\n",
       "            background-color:  #b40426;\n",
       "            color:  #f1f1f1;\n",
       "        }    #T_d469bd8e_e351_11e9_a7ec_119cf2211eadrow1_col2 {\n",
       "            background-color:  #b40426;\n",
       "            color:  #f1f1f1;\n",
       "        }    #T_d469bd8e_e351_11e9_a7ec_119cf2211eadrow1_col3 {\n",
       "            background-color:  #b40426;\n",
       "            color:  #f1f1f1;\n",
       "        }    #T_d469bd8e_e351_11e9_a7ec_119cf2211eadrow1_col4 {\n",
       "            background-color:  #b40426;\n",
       "            color:  #f1f1f1;\n",
       "        }    #T_d469bd8e_e351_11e9_a7ec_119cf2211eadrow1_col5 {\n",
       "            background-color:  #3b4cc0;\n",
       "            color:  #f1f1f1;\n",
       "        }    #T_d469bd8e_e351_11e9_a7ec_119cf2211eadrow2_col0 {\n",
       "            background-color:  #b40426;\n",
       "            color:  #f1f1f1;\n",
       "        }    #T_d469bd8e_e351_11e9_a7ec_119cf2211eadrow2_col1 {\n",
       "            background-color:  #b40426;\n",
       "            color:  #f1f1f1;\n",
       "        }    #T_d469bd8e_e351_11e9_a7ec_119cf2211eadrow2_col2 {\n",
       "            background-color:  #b40426;\n",
       "            color:  #f1f1f1;\n",
       "        }    #T_d469bd8e_e351_11e9_a7ec_119cf2211eadrow2_col3 {\n",
       "            background-color:  #b40426;\n",
       "            color:  #f1f1f1;\n",
       "        }    #T_d469bd8e_e351_11e9_a7ec_119cf2211eadrow2_col4 {\n",
       "            background-color:  #b40426;\n",
       "            color:  #f1f1f1;\n",
       "        }    #T_d469bd8e_e351_11e9_a7ec_119cf2211eadrow2_col5 {\n",
       "            background-color:  #3b4cc0;\n",
       "            color:  #f1f1f1;\n",
       "        }    #T_d469bd8e_e351_11e9_a7ec_119cf2211eadrow3_col0 {\n",
       "            background-color:  #b40426;\n",
       "            color:  #f1f1f1;\n",
       "        }    #T_d469bd8e_e351_11e9_a7ec_119cf2211eadrow3_col1 {\n",
       "            background-color:  #b40426;\n",
       "            color:  #f1f1f1;\n",
       "        }    #T_d469bd8e_e351_11e9_a7ec_119cf2211eadrow3_col2 {\n",
       "            background-color:  #b40426;\n",
       "            color:  #f1f1f1;\n",
       "        }    #T_d469bd8e_e351_11e9_a7ec_119cf2211eadrow3_col3 {\n",
       "            background-color:  #b40426;\n",
       "            color:  #f1f1f1;\n",
       "        }    #T_d469bd8e_e351_11e9_a7ec_119cf2211eadrow3_col4 {\n",
       "            background-color:  #b40426;\n",
       "            color:  #f1f1f1;\n",
       "        }    #T_d469bd8e_e351_11e9_a7ec_119cf2211eadrow3_col5 {\n",
       "            background-color:  #3b4cc0;\n",
       "            color:  #f1f1f1;\n",
       "        }    #T_d469bd8e_e351_11e9_a7ec_119cf2211eadrow4_col0 {\n",
       "            background-color:  #b40426;\n",
       "            color:  #f1f1f1;\n",
       "        }    #T_d469bd8e_e351_11e9_a7ec_119cf2211eadrow4_col1 {\n",
       "            background-color:  #b40426;\n",
       "            color:  #f1f1f1;\n",
       "        }    #T_d469bd8e_e351_11e9_a7ec_119cf2211eadrow4_col2 {\n",
       "            background-color:  #b40426;\n",
       "            color:  #f1f1f1;\n",
       "        }    #T_d469bd8e_e351_11e9_a7ec_119cf2211eadrow4_col3 {\n",
       "            background-color:  #b40426;\n",
       "            color:  #f1f1f1;\n",
       "        }    #T_d469bd8e_e351_11e9_a7ec_119cf2211eadrow4_col4 {\n",
       "            background-color:  #b40426;\n",
       "            color:  #f1f1f1;\n",
       "        }    #T_d469bd8e_e351_11e9_a7ec_119cf2211eadrow4_col5 {\n",
       "            background-color:  #3b4cc0;\n",
       "            color:  #f1f1f1;\n",
       "        }    #T_d469bd8e_e351_11e9_a7ec_119cf2211eadrow5_col0 {\n",
       "            background-color:  #3b4cc0;\n",
       "            color:  #f1f1f1;\n",
       "        }    #T_d469bd8e_e351_11e9_a7ec_119cf2211eadrow5_col1 {\n",
       "            background-color:  #3b4cc0;\n",
       "            color:  #f1f1f1;\n",
       "        }    #T_d469bd8e_e351_11e9_a7ec_119cf2211eadrow5_col2 {\n",
       "            background-color:  #3b4cc0;\n",
       "            color:  #f1f1f1;\n",
       "        }    #T_d469bd8e_e351_11e9_a7ec_119cf2211eadrow5_col3 {\n",
       "            background-color:  #3b4cc0;\n",
       "            color:  #f1f1f1;\n",
       "        }    #T_d469bd8e_e351_11e9_a7ec_119cf2211eadrow5_col4 {\n",
       "            background-color:  #3b4cc0;\n",
       "            color:  #f1f1f1;\n",
       "        }    #T_d469bd8e_e351_11e9_a7ec_119cf2211eadrow5_col5 {\n",
       "            background-color:  #b40426;\n",
       "            color:  #f1f1f1;\n",
       "        }</style><table id=\"T_d469bd8e_e351_11e9_a7ec_119cf2211ead\" ><thead>    <tr>        <th class=\"blank level0\" ></th>        <th class=\"col_heading level0 col0\" >Open</th>        <th class=\"col_heading level0 col1\" >High</th>        <th class=\"col_heading level0 col2\" >Low</th>        <th class=\"col_heading level0 col3\" >Close</th>        <th class=\"col_heading level0 col4\" >Adj Close</th>        <th class=\"col_heading level0 col5\" >Volume</th>    </tr></thead><tbody>\n",
       "                <tr>\n",
       "                        <th id=\"T_d469bd8e_e351_11e9_a7ec_119cf2211eadlevel0_row0\" class=\"row_heading level0 row0\" >Open</th>\n",
       "                        <td id=\"T_d469bd8e_e351_11e9_a7ec_119cf2211eadrow0_col0\" class=\"data row0 col0\" >1</td>\n",
       "                        <td id=\"T_d469bd8e_e351_11e9_a7ec_119cf2211eadrow0_col1\" class=\"data row0 col1\" >1</td>\n",
       "                        <td id=\"T_d469bd8e_e351_11e9_a7ec_119cf2211eadrow0_col2\" class=\"data row0 col2\" >1</td>\n",
       "                        <td id=\"T_d469bd8e_e351_11e9_a7ec_119cf2211eadrow0_col3\" class=\"data row0 col3\" >1</td>\n",
       "                        <td id=\"T_d469bd8e_e351_11e9_a7ec_119cf2211eadrow0_col4\" class=\"data row0 col4\" >1</td>\n",
       "                        <td id=\"T_d469bd8e_e351_11e9_a7ec_119cf2211eadrow0_col5\" class=\"data row0 col5\" >-0.57</td>\n",
       "            </tr>\n",
       "            <tr>\n",
       "                        <th id=\"T_d469bd8e_e351_11e9_a7ec_119cf2211eadlevel0_row1\" class=\"row_heading level0 row1\" >High</th>\n",
       "                        <td id=\"T_d469bd8e_e351_11e9_a7ec_119cf2211eadrow1_col0\" class=\"data row1 col0\" >1</td>\n",
       "                        <td id=\"T_d469bd8e_e351_11e9_a7ec_119cf2211eadrow1_col1\" class=\"data row1 col1\" >1</td>\n",
       "                        <td id=\"T_d469bd8e_e351_11e9_a7ec_119cf2211eadrow1_col2\" class=\"data row1 col2\" >1</td>\n",
       "                        <td id=\"T_d469bd8e_e351_11e9_a7ec_119cf2211eadrow1_col3\" class=\"data row1 col3\" >1</td>\n",
       "                        <td id=\"T_d469bd8e_e351_11e9_a7ec_119cf2211eadrow1_col4\" class=\"data row1 col4\" >1</td>\n",
       "                        <td id=\"T_d469bd8e_e351_11e9_a7ec_119cf2211eadrow1_col5\" class=\"data row1 col5\" >-0.57</td>\n",
       "            </tr>\n",
       "            <tr>\n",
       "                        <th id=\"T_d469bd8e_e351_11e9_a7ec_119cf2211eadlevel0_row2\" class=\"row_heading level0 row2\" >Low</th>\n",
       "                        <td id=\"T_d469bd8e_e351_11e9_a7ec_119cf2211eadrow2_col0\" class=\"data row2 col0\" >1</td>\n",
       "                        <td id=\"T_d469bd8e_e351_11e9_a7ec_119cf2211eadrow2_col1\" class=\"data row2 col1\" >1</td>\n",
       "                        <td id=\"T_d469bd8e_e351_11e9_a7ec_119cf2211eadrow2_col2\" class=\"data row2 col2\" >1</td>\n",
       "                        <td id=\"T_d469bd8e_e351_11e9_a7ec_119cf2211eadrow2_col3\" class=\"data row2 col3\" >1</td>\n",
       "                        <td id=\"T_d469bd8e_e351_11e9_a7ec_119cf2211eadrow2_col4\" class=\"data row2 col4\" >1</td>\n",
       "                        <td id=\"T_d469bd8e_e351_11e9_a7ec_119cf2211eadrow2_col5\" class=\"data row2 col5\" >-0.58</td>\n",
       "            </tr>\n",
       "            <tr>\n",
       "                        <th id=\"T_d469bd8e_e351_11e9_a7ec_119cf2211eadlevel0_row3\" class=\"row_heading level0 row3\" >Close</th>\n",
       "                        <td id=\"T_d469bd8e_e351_11e9_a7ec_119cf2211eadrow3_col0\" class=\"data row3 col0\" >1</td>\n",
       "                        <td id=\"T_d469bd8e_e351_11e9_a7ec_119cf2211eadrow3_col1\" class=\"data row3 col1\" >1</td>\n",
       "                        <td id=\"T_d469bd8e_e351_11e9_a7ec_119cf2211eadrow3_col2\" class=\"data row3 col2\" >1</td>\n",
       "                        <td id=\"T_d469bd8e_e351_11e9_a7ec_119cf2211eadrow3_col3\" class=\"data row3 col3\" >1</td>\n",
       "                        <td id=\"T_d469bd8e_e351_11e9_a7ec_119cf2211eadrow3_col4\" class=\"data row3 col4\" >1</td>\n",
       "                        <td id=\"T_d469bd8e_e351_11e9_a7ec_119cf2211eadrow3_col5\" class=\"data row3 col5\" >-0.58</td>\n",
       "            </tr>\n",
       "            <tr>\n",
       "                        <th id=\"T_d469bd8e_e351_11e9_a7ec_119cf2211eadlevel0_row4\" class=\"row_heading level0 row4\" >Adj Close</th>\n",
       "                        <td id=\"T_d469bd8e_e351_11e9_a7ec_119cf2211eadrow4_col0\" class=\"data row4 col0\" >1</td>\n",
       "                        <td id=\"T_d469bd8e_e351_11e9_a7ec_119cf2211eadrow4_col1\" class=\"data row4 col1\" >1</td>\n",
       "                        <td id=\"T_d469bd8e_e351_11e9_a7ec_119cf2211eadrow4_col2\" class=\"data row4 col2\" >1</td>\n",
       "                        <td id=\"T_d469bd8e_e351_11e9_a7ec_119cf2211eadrow4_col3\" class=\"data row4 col3\" >1</td>\n",
       "                        <td id=\"T_d469bd8e_e351_11e9_a7ec_119cf2211eadrow4_col4\" class=\"data row4 col4\" >1</td>\n",
       "                        <td id=\"T_d469bd8e_e351_11e9_a7ec_119cf2211eadrow4_col5\" class=\"data row4 col5\" >-0.58</td>\n",
       "            </tr>\n",
       "            <tr>\n",
       "                        <th id=\"T_d469bd8e_e351_11e9_a7ec_119cf2211eadlevel0_row5\" class=\"row_heading level0 row5\" >Volume</th>\n",
       "                        <td id=\"T_d469bd8e_e351_11e9_a7ec_119cf2211eadrow5_col0\" class=\"data row5 col0\" >-0.57</td>\n",
       "                        <td id=\"T_d469bd8e_e351_11e9_a7ec_119cf2211eadrow5_col1\" class=\"data row5 col1\" >-0.57</td>\n",
       "                        <td id=\"T_d469bd8e_e351_11e9_a7ec_119cf2211eadrow5_col2\" class=\"data row5 col2\" >-0.58</td>\n",
       "                        <td id=\"T_d469bd8e_e351_11e9_a7ec_119cf2211eadrow5_col3\" class=\"data row5 col3\" >-0.58</td>\n",
       "                        <td id=\"T_d469bd8e_e351_11e9_a7ec_119cf2211eadrow5_col4\" class=\"data row5 col4\" >-0.58</td>\n",
       "                        <td id=\"T_d469bd8e_e351_11e9_a7ec_119cf2211eadrow5_col5\" class=\"data row5 col5\" >1</td>\n",
       "            </tr>\n",
       "    </tbody></table>"
      ],
      "text/plain": [
       "<pandas.io.formats.style.Styler at 0x7f9641b0a668>"
      ]
     },
     "execution_count": 26,
     "metadata": {},
     "output_type": "execute_result"
    }
   ],
   "source": [
    "# Correlation heatmap\n",
    "\n",
    "rs = np.random.RandomState(0)\n",
    "df = pd.DataFrame(rs.rand(7, 7))\n",
    "corr = totaldata.corr()\n",
    "corr.style.background_gradient(cmap='coolwarm').set_precision(2)"
   ]
  },
  {
   "cell_type": "code",
   "execution_count": 27,
   "metadata": {},
   "outputs": [
    {
     "data": {
      "image/png": "[encoded data removed]",
      "text/plain": [
       "<Figure size 864x432 with 36 Axes>"
      ]
     },
     "metadata": {
      "needs_background": "light"
     },
     "output_type": "display_data"
    }
   ],
   "source": [
    "# Attribute Scatter Plot Matrix\n",
    "\n",
    "from pandas.plotting import scatter_matrix\n",
    "\n",
    "scatter_matrix(totaldata, figsize=(12, 6), diagonal='kde', alpha=0.2)\n",
    "plt.show()"
   ]
  },
  {
   "cell_type": "markdown",
   "metadata": {},
   "source": [
    "## Splitting the Data"
   ]
  },
  {
   "cell_type": "markdown",
   "metadata": {},
   "source": [
    "You can see that we have the dataset over the years from 2009 to 2018. We planned to train the model over the data from 2009 to 2017 and test it on 2018 data. So, we need to filter the data into two parts.\n",
    "\n",
    "- data_from_2009_to_2017 (starting from May 2009 to December 2017 included)\n",
    "- data_2018 (starting from January 2018 to August 2018)"
   ]
  },
  {
   "cell_type": "code",
   "execution_count": 28,
   "metadata": {},
   "outputs": [],
   "source": [
    "# converting the Date row of the Dataframe to datetime format for easy handling\n",
    "\n",
    "import datetime\n",
    "totaldata['Date'] = pd.to_datetime(totaldata['Date'])"
   ]
  },
  {
   "cell_type": "code",
   "execution_count": 29,
   "metadata": {},
   "outputs": [],
   "source": [
    "# the seperation date\n",
    "\n",
    "dec_2017 = '2017-12-31'"
   ]
  },
  {
   "cell_type": "markdown",
   "metadata": {},
   "source": [
    "### data_from_2009_to_2017"
   ]
  },
  {
   "cell_type": "code",
   "execution_count": 30,
   "metadata": {},
   "outputs": [],
   "source": [
    "mask = (totaldata['Date'] <= dec_2017)\n",
    "data_09to17 = totaldata.loc[mask]"
   ]
  },
  {
   "cell_type": "code",
   "execution_count": 31,
   "metadata": {},
   "outputs": [
    {
     "data": {
      "text/html": [
       "<div>\n",
       "<style scoped>\n",
       "    .dataframe tbody tr th:only-of-type {\n",
       "        vertical-align: middle;\n",
       "    }\n",
       "\n",
       "    .dataframe tbody tr th {\n",
       "        vertical-align: top;\n",
       "    }\n",
       "\n",
       "    .dataframe thead th {\n",
       "        text-align: right;\n",
       "    }\n",
       "</style>\n",
       "<table border=\"1\" class=\"dataframe\">\n",
       "  <thead>\n",
       "    <tr style=\"text-align: right;\">\n",
       "      <th></th>\n",
       "      <th>Date</th>\n",
       "      <th>Open</th>\n",
       "      <th>High</th>\n",
       "      <th>Low</th>\n",
       "      <th>Close</th>\n",
       "      <th>Adj Close</th>\n",
       "      <th>Volume</th>\n",
       "    </tr>\n",
       "  </thead>\n",
       "  <tbody>\n",
       "    <tr>\n",
       "      <th>2163</th>\n",
       "      <td>2017-12-22</td>\n",
       "      <td>1070.000000</td>\n",
       "      <td>1071.719971</td>\n",
       "      <td>1067.640015</td>\n",
       "      <td>1068.859985</td>\n",
       "      <td>1068.859985</td>\n",
       "      <td>889400</td>\n",
       "    </tr>\n",
       "    <tr>\n",
       "      <th>2164</th>\n",
       "      <td>2017-12-26</td>\n",
       "      <td>1068.640015</td>\n",
       "      <td>1068.859985</td>\n",
       "      <td>1058.640015</td>\n",
       "      <td>1065.849976</td>\n",
       "      <td>1065.849976</td>\n",
       "      <td>918800</td>\n",
       "    </tr>\n",
       "    <tr>\n",
       "      <th>2165</th>\n",
       "      <td>2017-12-27</td>\n",
       "      <td>1066.599976</td>\n",
       "      <td>1068.270020</td>\n",
       "      <td>1058.380005</td>\n",
       "      <td>1060.199951</td>\n",
       "      <td>1060.199951</td>\n",
       "      <td>1116200</td>\n",
       "    </tr>\n",
       "    <tr>\n",
       "      <th>2166</th>\n",
       "      <td>2017-12-28</td>\n",
       "      <td>1062.250000</td>\n",
       "      <td>1064.839966</td>\n",
       "      <td>1053.380005</td>\n",
       "      <td>1055.949951</td>\n",
       "      <td>1055.949951</td>\n",
       "      <td>994200</td>\n",
       "    </tr>\n",
       "    <tr>\n",
       "      <th>2167</th>\n",
       "      <td>2017-12-29</td>\n",
       "      <td>1055.489990</td>\n",
       "      <td>1058.050049</td>\n",
       "      <td>1052.699951</td>\n",
       "      <td>1053.400024</td>\n",
       "      <td>1053.400024</td>\n",
       "      <td>1180300</td>\n",
       "    </tr>\n",
       "  </tbody>\n",
       "</table>\n",
       "</div>"
      ],
      "text/plain": [
       "           Date         Open         High          Low        Close  \\\n",
       "2163 2017-12-22  1070.000000  1071.719971  1067.640015  1068.859985   \n",
       "2164 2017-12-26  1068.640015  1068.859985  1058.640015  1065.849976   \n",
       "2165 2017-12-27  1066.599976  1068.270020  1058.380005  1060.199951   \n",
       "2166 2017-12-28  1062.250000  1064.839966  1053.380005  1055.949951   \n",
       "2167 2017-12-29  1055.489990  1058.050049  1052.699951  1053.400024   \n",
       "\n",
       "        Adj Close   Volume  \n",
       "2163  1068.859985   889400  \n",
       "2164  1065.849976   918800  \n",
       "2165  1060.199951  1116200  \n",
       "2166  1055.949951   994200  \n",
       "2167  1053.400024  1180300  "
      ]
     },
     "execution_count": 31,
     "metadata": {},
     "output_type": "execute_result"
    }
   ],
   "source": [
    "data_09to17.tail()"
   ]
  },
  {
   "cell_type": "markdown",
   "metadata": {},
   "source": [
    "### data_2018"
   ]
  },
  {
   "cell_type": "code",
   "execution_count": 32,
   "metadata": {},
   "outputs": [],
   "source": [
    "mask = (totaldata['Date'] > dec_2017)\n",
    "data_18 = totaldata.loc[mask]"
   ]
  },
  {
   "cell_type": "code",
   "execution_count": 33,
   "metadata": {},
   "outputs": [
    {
     "data": {
      "text/html": [
       "<div>\n",
       "<style scoped>\n",
       "    .dataframe tbody tr th:only-of-type {\n",
       "        vertical-align: middle;\n",
       "    }\n",
       "\n",
       "    .dataframe tbody tr th {\n",
       "        vertical-align: top;\n",
       "    }\n",
       "\n",
       "    .dataframe thead th {\n",
       "        text-align: right;\n",
       "    }\n",
       "</style>\n",
       "<table border=\"1\" class=\"dataframe\">\n",
       "  <thead>\n",
       "    <tr style=\"text-align: right;\">\n",
       "      <th></th>\n",
       "      <th>Date</th>\n",
       "      <th>Open</th>\n",
       "      <th>High</th>\n",
       "      <th>Low</th>\n",
       "      <th>Close</th>\n",
       "      <th>Adj Close</th>\n",
       "      <th>Volume</th>\n",
       "    </tr>\n",
       "  </thead>\n",
       "  <tbody>\n",
       "    <tr>\n",
       "      <th>2168</th>\n",
       "      <td>2018-01-02</td>\n",
       "      <td>1053.020020</td>\n",
       "      <td>1075.979980</td>\n",
       "      <td>1053.020020</td>\n",
       "      <td>1073.209961</td>\n",
       "      <td>1073.209961</td>\n",
       "      <td>1588300</td>\n",
       "    </tr>\n",
       "    <tr>\n",
       "      <th>2169</th>\n",
       "      <td>2018-01-03</td>\n",
       "      <td>1073.930054</td>\n",
       "      <td>1096.099976</td>\n",
       "      <td>1073.430054</td>\n",
       "      <td>1091.520020</td>\n",
       "      <td>1091.520020</td>\n",
       "      <td>1565900</td>\n",
       "    </tr>\n",
       "    <tr>\n",
       "      <th>2170</th>\n",
       "      <td>2018-01-04</td>\n",
       "      <td>1097.089966</td>\n",
       "      <td>1104.079956</td>\n",
       "      <td>1094.260010</td>\n",
       "      <td>1095.760010</td>\n",
       "      <td>1095.760010</td>\n",
       "      <td>1302600</td>\n",
       "    </tr>\n",
       "    <tr>\n",
       "      <th>2171</th>\n",
       "      <td>2018-01-05</td>\n",
       "      <td>1103.449951</td>\n",
       "      <td>1113.579956</td>\n",
       "      <td>1101.800049</td>\n",
       "      <td>1110.290039</td>\n",
       "      <td>1110.290039</td>\n",
       "      <td>1512500</td>\n",
       "    </tr>\n",
       "    <tr>\n",
       "      <th>2172</th>\n",
       "      <td>2018-01-08</td>\n",
       "      <td>1111.000000</td>\n",
       "      <td>1119.160034</td>\n",
       "      <td>1110.000000</td>\n",
       "      <td>1114.209961</td>\n",
       "      <td>1114.209961</td>\n",
       "      <td>1232200</td>\n",
       "    </tr>\n",
       "  </tbody>\n",
       "</table>\n",
       "</div>"
      ],
      "text/plain": [
       "           Date         Open         High          Low        Close  \\\n",
       "2168 2018-01-02  1053.020020  1075.979980  1053.020020  1073.209961   \n",
       "2169 2018-01-03  1073.930054  1096.099976  1073.430054  1091.520020   \n",
       "2170 2018-01-04  1097.089966  1104.079956  1094.260010  1095.760010   \n",
       "2171 2018-01-05  1103.449951  1113.579956  1101.800049  1110.290039   \n",
       "2172 2018-01-08  1111.000000  1119.160034  1110.000000  1114.209961   \n",
       "\n",
       "        Adj Close   Volume  \n",
       "2168  1073.209961  1588300  \n",
       "2169  1091.520020  1565900  \n",
       "2170  1095.760010  1302600  \n",
       "2171  1110.290039  1512500  \n",
       "2172  1114.209961  1232200  "
      ]
     },
     "execution_count": 33,
     "metadata": {},
     "output_type": "execute_result"
    }
   ],
   "source": [
    "data_18.head()"
   ]
  },
  {
   "cell_type": "markdown",
   "metadata": {},
   "source": [
    "We will use the `data_09to17` for the further steps. We will use the `data_18` in the end for testing and validating."
   ]
  },
  {
   "cell_type": "markdown",
   "metadata": {},
   "source": [
    "## Data Preprocessing"
   ]
  },
  {
   "cell_type": "markdown",
   "metadata": {},
   "source": [
    "The dataset contains various information like displayed above. But in this project we will only use the `Open` stock prices for training our model. Therefore for the purpose of convenience we will create another variable that stores only the required (`Open` stock price) information. "
   ]
  },
  {
   "cell_type": "code",
   "execution_count": 34,
   "metadata": {},
   "outputs": [
    {
     "name": "stdout",
     "output_type": "stream",
     "text": [
      "[[ 198.528534]\n",
      " [ 196.171173]\n",
      " [ 203.023026]\n",
      " ...\n",
      " [1066.599976]\n",
      " [1062.25    ]\n",
      " [1055.48999 ]]\n",
      "********************\n",
      "********************\n",
      "(2168, 1)\n"
     ]
    }
   ],
   "source": [
    "training_set = data_09to17.iloc[:,1:2].values\n",
    "\n",
    "print(training_set)\n",
    "print(\"********************\")\n",
    "print(\"********************\")\n",
    "print(training_set.shape)"
   ]
  },
  {
   "cell_type": "markdown",
   "metadata": {},
   "source": [
    "Now we can see that there is only one column with the `Open` stock prices. There are a total of 2168 stock prices."
   ]
  },
  {
   "cell_type": "markdown",
   "metadata": {},
   "source": [
    "### Additional Information (Things to Remember!)"
   ]
  },
  {
   "cell_type": "code",
   "execution_count": 35,
   "metadata": {},
   "outputs": [
    {
     "name": "stdout",
     "output_type": "stream",
     "text": [
      "<class 'pandas.core.frame.DataFrame'>\n",
      "<class 'pandas.core.frame.DataFrame'>\n",
      "<class 'numpy.ndarray'>\n"
     ]
    }
   ],
   "source": [
    "print(type(data_09to17))\n",
    "print(type(data_09to17.iloc[:,1:2]))   \n",
    "print(type(data_09to17.iloc[:,1:2].values))\n",
    "\n",
    "# iloc[rangeofRows, rangeofColumns]\n",
    "# Indexing starts from zero.\n",
    "# \":\" indicates entire range.\n",
    "# \"1:2\" indicates column one only. Because, the upper bound will be excluded. \n",
    "# mathematical operation are performed on the arrays. So, it is crusial to convert the data to arrays."
   ]
  },
  {
   "cell_type": "markdown",
   "metadata": {},
   "source": [
    "## Feature scaling\n",
    "\n",
    "The performance of the neural network will be better if the entire training input is in the same range. As we can see from above the stock prices are not in the same range. So, we need to scale the training data such that they are in the same range. This process is called Feature Scaling. The two popular methods for feature scaling are:\n",
    "\n",
    "* **Standardization**\n",
    "\n",
    "$ x' = \\frac{x - \\bar{x}}{\\sigma} $\n",
    "\n",
    "where $ x $ is the original feature vector, $ \\bar{x} $ is the mean of that feature vector, and $ \\sigma $ is its standard deviation.\n",
    "\n",
    "* **Normalization** (Min-Max normalization)\n",
    "\n",
    "$ x' = \\frac{x - \\text{min}(x)}{\\text{max}(x)-\\text{min}(x)} $\n",
    "\n",
    "where $ x $ is an original value, $ x' $ is the normalized value.\n",
    "\n",
    "It is recommended to use Normalization in the case of RNN networks. Therefore we use Min-Max normalization here. You may also experiment with different feature scaling methods."
   ]
  },
  {
   "cell_type": "code",
   "execution_count": 36,
   "metadata": {},
   "outputs": [
    {
     "name": "stdout",
     "output_type": "stream",
     "text": [
      "(2168, 1)\n"
     ]
    },
    {
     "data": {
      "text/plain": [
       "array([[0.00265813],\n",
       "       [0.        ],\n",
       "       [0.00772607],\n",
       "       ...,\n",
       "       [0.98148496],\n",
       "       [0.97657998],\n",
       "       [0.96895747]])"
      ]
     },
     "execution_count": 36,
     "metadata": {},
     "output_type": "execute_result"
    }
   ],
   "source": [
    "from sklearn.preprocessing import MinMaxScaler\n",
    "\n",
    "scaler = MinMaxScaler(feature_range = (0,1)) \n",
    "scaled_training_set = scaler.fit_transform(training_set)\n",
    "\n",
    "print(scaled_training_set.shape)\n",
    "scaled_training_set"
   ]
  },
  {
   "cell_type": "markdown",
   "metadata": {},
   "source": [
    "The `fit` method only calculates the min and max values. It does not apply the formula on the training set. The `fit_transform` method applies the minmax formula on the training set. After applying the minmax formula, the transformed values will be in the range 0 and 1 i.e, the training data (features) will be in the range 0 and 1 (as shown above)."
   ]
  },
  {
   "cell_type": "markdown",
   "metadata": {},
   "source": [
    "## Implementation of LSTM model"
   ]
  },
  {
   "cell_type": "code",
   "execution_count": 40,
   "metadata": {},
   "outputs": [],
   "source": [
    "X_train = []\n",
    "y_train = []\n",
    "\n",
    "for i in range(60, 2168):\n",
    "    X_train.append(scaled_training_set[i-60:i,0])\n",
    "    y_train.append(scaled_training_set[i,0])\n",
    "    \n",
    "X_train,y_train = np.array(X_train),np.array(y_train)"
   ]
  },
  {
   "cell_type": "code",
   "execution_count": 41,
   "metadata": {},
   "outputs": [
    {
     "name": "stdout",
     "output_type": "stream",
     "text": [
      "(2108, 60) (2108,)\n"
     ]
    }
   ],
   "source": [
    "print(X_train.shape, y_train.shape)"
   ]
  },
  {
   "cell_type": "code",
   "execution_count": 42,
   "metadata": {},
   "outputs": [
    {
     "data": {
      "text/plain": [
       "(2108, 60, 1)"
      ]
     },
     "execution_count": 42,
     "metadata": {},
     "output_type": "execute_result"
    }
   ],
   "source": [
    "X_train = np.reshape(X_train,(X_train.shape[0],X_train.shape[1],1)) #adding the batch_size axis\n",
    "X_train.shape"
   ]
  },
  {
   "cell_type": "code",
   "execution_count": 43,
   "metadata": {},
   "outputs": [
    {
     "name": "stderr",
     "output_type": "stream",
     "text": [
      "Using TensorFlow backend.\n"
     ]
    }
   ],
   "source": [
    "from keras.models import Sequential\n",
    "from keras.layers import Dense,LSTM,Dropout"
   ]
  },
  {
   "cell_type": "code",
   "execution_count": 44,
   "metadata": {},
   "outputs": [
    {
     "name": "stdout",
     "output_type": "stream",
     "text": [
      "WARNING:tensorflow:From /home/vchrombie/anaconda3/lib/python3.7/site-packages/keras/backend/tensorflow_backend.py:66: The name tf.get_default_graph is deprecated. Please use tf.compat.v1.get_default_graph instead.\n",
      "\n",
      "WARNING:tensorflow:From /home/vchrombie/anaconda3/lib/python3.7/site-packages/keras/backend/tensorflow_backend.py:541: The name tf.placeholder is deprecated. Please use tf.compat.v1.placeholder instead.\n",
      "\n",
      "WARNING:tensorflow:From /home/vchrombie/anaconda3/lib/python3.7/site-packages/keras/backend/tensorflow_backend.py:4432: The name tf.random_uniform is deprecated. Please use tf.random.uniform instead.\n",
      "\n",
      "WARNING:tensorflow:From /home/vchrombie/anaconda3/lib/python3.7/site-packages/keras/backend/tensorflow_backend.py:148: The name tf.placeholder_with_default is deprecated. Please use tf.compat.v1.placeholder_with_default instead.\n",
      "\n",
      "WARNING:tensorflow:From /home/vchrombie/anaconda3/lib/python3.7/site-packages/keras/backend/tensorflow_backend.py:3733: calling dropout (from tensorflow.python.ops.nn_ops) with keep_prob is deprecated and will be removed in a future version.\n",
      "Instructions for updating:\n",
      "Please use `rate` instead of `keep_prob`. Rate should be set to `rate = 1 - keep_prob`.\n",
      "WARNING:tensorflow:From /home/vchrombie/anaconda3/lib/python3.7/site-packages/keras/optimizers.py:793: The name tf.train.Optimizer is deprecated. Please use tf.compat.v1.train.Optimizer instead.\n",
      "\n"
     ]
    }
   ],
   "source": [
    "model = Sequential()\n",
    "\n",
    "model.add(LSTM(units=100, return_sequences = True, input_shape =(X_train.shape[1],1)))\n",
    "model.add(Dropout(0.2))\n",
    "\n",
    "model.add(LSTM(units=100, return_sequences = True))\n",
    "model.add(Dropout(0.2))\n",
    "\n",
    "model.add(LSTM(units=100, return_sequences = True))\n",
    "model.add(Dropout(0.2))\n",
    "\n",
    "model.add(LSTM(units=100, return_sequences = False))\n",
    "model.add(Dropout(0.2))\n",
    "\n",
    "model.add(Dense(units =1))\n",
    "model.compile(optimizer='adam',loss=\"mean_squared_error\")"
   ]
  },
  {
   "cell_type": "code",
   "execution_count": 45,
   "metadata": {},
   "outputs": [
    {
     "name": "stdout",
     "output_type": "stream",
     "text": [
      "WARNING:tensorflow:From /home/vchrombie/anaconda3/lib/python3.7/site-packages/tensorflow/python/ops/math_grad.py:1250: add_dispatch_support.<locals>.wrapper (from tensorflow.python.ops.array_ops) is deprecated and will be removed in a future version.\n",
      "Instructions for updating:\n",
      "Use tf.where in 2.0, which has the same broadcast rule as np.where\n",
      "WARNING:tensorflow:From /home/vchrombie/anaconda3/lib/python3.7/site-packages/keras/backend/tensorflow_backend.py:1033: The name tf.assign_add is deprecated. Please use tf.compat.v1.assign_add instead.\n",
      "\n",
      "Epoch 1/20\n",
      " - 26s - loss: 0.0123\n",
      "Epoch 2/20\n",
      " - 18s - loss: 0.0021\n",
      "Epoch 3/20\n",
      " - 18s - loss: 0.0020\n",
      "Epoch 4/20\n",
      " - 18s - loss: 0.0015\n",
      "Epoch 5/20\n",
      " - 15s - loss: 0.0015\n",
      "Epoch 6/20\n",
      " - 15s - loss: 0.0017\n",
      "Epoch 7/20\n",
      " - 16s - loss: 0.0018\n",
      "Epoch 8/20\n",
      " - 15s - loss: 0.0014\n",
      "Epoch 9/20\n",
      " - 15s - loss: 0.0012\n",
      "Epoch 10/20\n",
      " - 15s - loss: 0.0013\n",
      "Epoch 11/20\n",
      " - 16s - loss: 0.0013\n",
      "Epoch 12/20\n",
      " - 16s - loss: 0.0015\n",
      "Epoch 13/20\n",
      " - 19s - loss: 0.0012\n",
      "Epoch 14/20\n",
      " - 20s - loss: 0.0013\n",
      "Epoch 15/20\n",
      " - 16s - loss: 0.0012\n",
      "Epoch 16/20\n",
      " - 16s - loss: 0.0011\n",
      "Epoch 17/20\n",
      " - 15s - loss: 0.0012\n",
      "Epoch 18/20\n",
      " - 15s - loss: 0.0015\n",
      "Epoch 19/20\n",
      " - 16s - loss: 0.0011\n",
      "Epoch 20/20\n",
      " - 15s - loss: 0.0010\n"
     ]
    }
   ],
   "source": [
    "hist = model.fit(X_train, y_train, epochs = 20, batch_size = 32, verbose=2)"
   ]
  },
  {
   "cell_type": "code",
   "execution_count": 47,
   "metadata": {},
   "outputs": [
    {
     "data": {
      "image/png": "[encoded data removed]",
      "text/plain": [
       "<Figure size 432x288 with 1 Axes>"
      ]
     },
     "metadata": {
      "needs_background": "light"
     },
     "output_type": "display_data"
    }
   ],
   "source": [
    "plt.plot(hist.history['loss'])\n",
    "plt.title('model loss')\n",
    "plt.ylabel('loss')\n",
    "plt.xlabel('epoch')\n",
    "plt.legend(['train'], loc='upper left')\n",
    "plt.show()"
   ]
  },
  {
   "cell_type": "code",
   "execution_count": 54,
   "metadata": {},
   "outputs": [],
   "source": [
    "testing_set = data_18.iloc[:,1:2]"
   ]
  },
  {
   "cell_type": "code",
   "execution_count": 49,
   "metadata": {},
   "outputs": [],
   "source": [
    "y_test = testing_set.iloc[60:,0:].values"
   ]
  },
  {
   "cell_type": "code",
   "execution_count": 55,
   "metadata": {},
   "outputs": [
    {
     "data": {
      "text/plain": [
       "(167, 1)"
      ]
     },
     "execution_count": 55,
     "metadata": {},
     "output_type": "execute_result"
    }
   ],
   "source": [
    "testing_set = testing_set.iloc[:,0:].values \n",
    "scaled_testing_set = scaler.transform(testing_set)\n",
    "scaled_testing_set.shape"
   ]
  },
  {
   "cell_type": "code",
   "execution_count": 56,
   "metadata": {},
   "outputs": [],
   "source": [
    "X_test = []\n",
    "\n",
    "for i in range(60, 167):\n",
    "    X_test.append(scaled_testing_set[i-60:i,0])\n",
    "    \n",
    "X_test = np.array(X_test)"
   ]
  },
  {
   "cell_type": "code",
   "execution_count": 57,
   "metadata": {},
   "outputs": [
    {
     "name": "stdout",
     "output_type": "stream",
     "text": [
      "(107, 60)\n"
     ]
    }
   ],
   "source": [
    "print(X_test.shape)"
   ]
  },
  {
   "cell_type": "code",
   "execution_count": 58,
   "metadata": {},
   "outputs": [
    {
     "data": {
      "text/plain": [
       "(107, 60, 1)"
      ]
     },
     "execution_count": 58,
     "metadata": {},
     "output_type": "execute_result"
    }
   ],
   "source": [
    "X_test = np.reshape(X_test,(X_test.shape[0],X_test.shape[1],1)) #adding the batch_size axis\n",
    "X_test.shape"
   ]
  },
  {
   "cell_type": "code",
   "execution_count": 59,
   "metadata": {},
   "outputs": [],
   "source": [
    "y_pred = model.predict(X_test) #predicting the new values"
   ]
  },
  {
   "cell_type": "code",
   "execution_count": 60,
   "metadata": {},
   "outputs": [],
   "source": [
    "predicted_price = scaler.inverse_transform(y_pred) #inversing the scaling transformation for ploting"
   ]
  },
  {
   "cell_type": "code",
   "execution_count": 61,
   "metadata": {},
   "outputs": [
    {
     "data": {
      "image/png": "[encoded data removed]",
      "text/plain": [
       "<Figure size 432x288 with 1 Axes>"
      ]
     },
     "metadata": {
      "needs_background": "light"
     },
     "output_type": "display_data"
    }
   ],
   "source": [
    "plt.plot(y_test, color = 'blue', label = 'Actual Stock Price')\n",
    "plt.plot(predicted_price, color = 'red', label = 'Predicted Stock Price')\n",
    "plt.title('GOOGL stock price prediction')\n",
    "plt.xlabel('Time')\n",
    "plt.ylabel('Stock Price')\n",
    "plt.legend()\n",
    "plt.show()"
   ]
  },
  {
   "cell_type": "code",
   "execution_count": null,
   "metadata": {},
   "outputs": [],
   "source": []
  }
 ],
 "metadata": {
  "kernelspec": {
   "display_name": "Python 3",
   "language": "python",
   "name": "python3"
  },
  "language_info": {
   "codemirror_mode": {
    "name": "ipython",
    "version": 3
   },
   "file_extension": ".py",
   "mimetype": "text/x-python",
   "name": "python",
   "nbconvert_exporter": "python",
   "pygments_lexer": "ipython3",
   "version": "3.7.3"
  }
 },
 "nbformat": 4,
 "nbformat_minor": 2
}
